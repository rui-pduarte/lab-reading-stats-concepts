{
 "cells": [
  {
   "cell_type": "markdown",
   "metadata": {},
   "source": [
    "## Challenges\n",
    "\n",
    "### Challenge 1: What is the difference between expected value and mean?\n",
    "\n",
    "* The mean or average is the sum of the observations divided by the number of observations. The expected value is the average value expected to be obtained from an experiment.\n",
    "\n",
    "* The first is a statistic out a sample and the second is a characteristic of a distribution.\n",
    "\n",
    "* If you are 100% sure that you know the actual distribution/data generation process, then these would be the same.\n",
    "\n",
    "\n",
    "### Challenge 2: What is the \"problem\" in science with p-values?\n",
    "\n",
    " * A p-value is the probability of obtaining an effect at least as extreme as the one in your sample data, assuming the truth of the null hypothesis (parameter = 0 usually).\n",
    "\n",
    " * P-Values (or confidence metrics generally) are not that simple to interpret. They are more sample dependent than theoritical distribution dependent (they actually impose and assumption on the latter), which is obvious since we don't have the th distribution, but people often forget that. In particular, a low P-value indicates that your data are unlikely to be assuming a true null hypothesis (null/h0), but doesn't help you know if the null is true but the sample is biased or if the null is false. Further to that P-Value is alternative hypothesis(h1) dependent and it might be hard at times to know which h1 is more plausible.\n",
    " \n",
    " * Another minor matter, but that is relevant in scientific publishing is that the p-Value statistical significance threshold (\"in science\") is totally random, why 0.05/0.01/0.005 ? Meaning, the value of the p-value matters.\n",
    " \n",
    "\n",
    "### Challenge 3: Applying testing to a specific case: A/B testing.\n",
    "\n",
    "* Netflix article is interesting, controling for basic characteristics of the people would be nice such as gender, locations, langauge etc.\n",
    "* They can go further and even use the variables they already have to know if people are into or not the different genres and see if that would have an impact given the image.\n",
    "* People that like psychology might like one picture more and chess nerds might like another picture more and both like the Queen's Gambit show. I am pretty sure they could do that. Maybe they can't identify the chess nerds, but they can identify the drama lovers, the psyche lovers, the thriller ones... etc."
   ]
  },
  {
   "cell_type": "code",
   "execution_count": null,
   "metadata": {},
   "outputs": [],
   "source": []
  }
 ],
 "metadata": {
  "kernelspec": {
   "display_name": "Python 3",
   "language": "python",
   "name": "python3"
  },
  "language_info": {
   "codemirror_mode": {
    "name": "ipython",
    "version": 3
   },
   "file_extension": ".py",
   "mimetype": "text/x-python",
   "name": "python",
   "nbconvert_exporter": "python",
   "pygments_lexer": "ipython3",
   "version": "3.9.0"
  }
 },
 "nbformat": 4,
 "nbformat_minor": 4
}
